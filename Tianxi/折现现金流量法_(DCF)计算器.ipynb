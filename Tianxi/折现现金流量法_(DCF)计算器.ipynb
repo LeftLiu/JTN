{
  "nbformat": 4,
  "nbformat_minor": 0,
  "metadata": {
    "colab": {
      "provenance": [],
      "authorship_tag": "ABX9TyM2SIniAZbrJ7RS3Dz2xpoD",
      "include_colab_link": true
    },
    "kernelspec": {
      "name": "python3",
      "display_name": "Python 3"
    },
    "language_info": {
      "name": "python"
    }
  },
  "cells": [
    {
      "cell_type": "markdown",
      "metadata": {
        "id": "view-in-github",
        "colab_type": "text"
      },
      "source": [
        "<a href=\"https://colab.research.google.com/github/LeftLiu/JTN/blob/main/Tianxi/%E6%8A%98%E7%8E%B0%E7%8E%B0%E9%87%91%E6%B5%81%E9%87%8F%E6%B3%95_(DCF)%E8%AE%A1%E7%AE%97%E5%99%A8.ipynb\" target=\"_parent\"><img src=\"https://colab.research.google.com/assets/colab-badge.svg\" alt=\"Open In Colab\"/></a>"
      ]
    },
    {
      "cell_type": "code",
      "execution_count": null,
      "metadata": {
        "id": "vSg0UrM2Auaq"
      },
      "outputs": [],
      "source": [
        "#点击上方Colab图标开始估值计算\n",
        "# 折现现金流量法 (DCF)计算器\n",
        "\n",
        "# 获取输入\n",
        "years = int(input(\"请输入预测期的年数 (例如: 5 或 10): \"))\n",
        "discount_rate = float(input(\"请输入折现率 (例如: 0.08 表示 8%): \"))\n",
        "terminal_growth_rate = float(input(\"请输入永续增长率 (例如: 0.02 表示 2%): \"))\n",
        "\n",
        "# 输入未来每年的预测现金流\n",
        "future_cash_flows = []\n",
        "for year in range(1, years + 1):\n",
        "    cash_flow = float(input(f\"请输入第 {year} 年的预测现金流: \"))\n",
        "    future_cash_flows.append(cash_flow)\n",
        "\n",
        "# 使用DCF公式计算公司的估值\n",
        "valuation = 0\n",
        "for i, cash_flow in enumerate(future_cash_flows):\n",
        "    valuation += cash_flow / ((1 + discount_rate) ** (i + 1))\n",
        "\n",
        "# 使用永续增长率计算永续期的现值\n",
        "terminal_value = future_cash_flows[-1] * (1 + terminal_growth_rate) / (discount_rate - terminal_growth_rate)\n",
        "terminal_value_discounted = terminal_value / ((1 + discount_rate) ** years)\n",
        "valuation += terminal_value_discounted\n",
        "\n",
        "print(f\"\\n公司的估值为: ${valuation:,.2f}\")\n"
      ]
    }
  ]
}